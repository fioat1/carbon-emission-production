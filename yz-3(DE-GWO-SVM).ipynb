{
 "cells": [
  {
   "cell_type": "code",
   "execution_count": 1,
   "id": "85bc3864",
   "metadata": {},
   "outputs": [],
   "source": [
    "from sklearn import svm\n",
    "from sklearn.model_selection import train_test_split\n",
    "from sklearn.preprocessing import StandardScaler\n",
    "import numpy as np\n",
    "import pandas as pd"
   ]
  },
  {
   "cell_type": "code",
   "execution_count": 2,
   "id": "3a05df2c",
   "metadata": {},
   "outputs": [],
   "source": [
    "#定义差分进化灰狼优化函数\n",
    "np.random.seed(2)\n",
    "def DEWO_SVM(X_train, X_test, y_train, y_test, pop_size, max_iter):\n",
    "\n",
    "    # 设置SVR模型的参数范围\n",
    "    C_range = np.logspace(-5, 5, 20)\n",
    "    gamma_range = np.logspace(-5, 5, 20)\n",
    "\n",
    "    # 初始化狼群的位置\n",
    "    positions = np.random.rand(pop_size, 2) * 10 - 5\n",
    "    best_position = None\n",
    "    best_fitness = float('-inf')\n",
    "\n",
    "    # 开始迭代\n",
    "    for i in range(max_iter):\n",
    "        # 计算每只狼的适应度\n",
    "        fitness = np.zeros(pop_size)\n",
    "        for j in range(pop_size):\n",
    "            C = C_range[int(round(positions[j, 0]))]\n",
    "            gamma = gamma_range[int(round(positions[j, 1]))]\n",
    "            clf = svm.SVR(kernel='rbf', C=C, gamma=gamma)\n",
    "            clf.fit(X_train, y_train)\n",
    "            fitness[j] = clf.score(X_test, y_test)\n",
    "\n",
    "            # 更新全局最优解\n",
    "            if fitness[j] > best_fitness:\n",
    "                best_fitness = fitness[j]\n",
    "                best_position = positions[j]\n",
    "\n",
    "        # 对狼群进行排序\n",
    "        rank = np.argsort(-fitness)\n",
    "        alpha = positions[rank[0]]\n",
    "        beta = positions[rank[1]]\n",
    "        delta = positions[rank[2]]\n",
    "\n",
    "        # 更新每个个体的位置\n",
    "        for j in range(pop_size):\n",
    "            # 差分变异\n",
    "            mutation = beta + 0.5 * (delta - beta)\n",
    "            # 杂交\n",
    "            crossover = np.random.rand(1, 2)\n",
    "            mask = crossover > 0.5\n",
    "            intermediate = mask * mutation + (1 - mask) * positions[j]\n",
    "\n",
    "            # 更新个体位置\n",
    "            if np.random.rand() < 0.5:\n",
    "                positions[j] = intermediate\n",
    "            else:\n",
    "                positions[j] = alpha + np.random.rand() * (best_position - positions[j])\n",
    "\n",
    "    # 使用最优参数建立SVR模型\n",
    "    C_star = C_range[int(round(best_position[0]))]\n",
    "    gamma_star = gamma_range[int(round(best_position[1]))]\n",
    "    svr = svm.SVR(kernel='rbf', C=C_star, gamma=gamma_star)\n",
    "    svr.fit(X_train, y_train)\n",
    "\n",
    "    # 在测试集上进行预测\n",
    "    y_pred = svr.predict(X_test)\n",
    "\n",
    "    # 计算预测结果误差\n",
    "    mse = np.mean((y_test - y_pred) ** 2)\n",
    "    return mse, C_star, gamma_star"
   ]
  },
  {
   "cell_type": "code",
   "execution_count": 3,
   "id": "2be3f4a7",
   "metadata": {},
   "outputs": [],
   "source": [
    "#导入数据集\n",
    "url = r'F:\\研究生\\ML+ESE\\碳排放数据\\山东省1997-2019carbon原始数据.xlsx'\n",
    "df = pd.read_excel(url)\n",
    "scaler=StandardScaler()  #标准化\n",
    "df_sc= scaler.fit_transform(df)  #对数据先拟合fit，找到均值、方差、最大值最小值等；然后进行转换，实现数据的标准化、归一化\n",
    "df_sc = pd.DataFrame(df_sc, columns=df.columns)\n",
    "y = df_sc['carbon（y）']\n",
    "X = df_sc.drop('carbon（y）', axis=1) # becareful inplace= False\n",
    "# 将数据集分为训练集和测试集\n",
    "X_train, X_test, y_train, y_test = train_test_split(X, y, test_size=0.2)"
   ]
  },
  {
   "cell_type": "code",
   "execution_count": 4,
   "id": "fc57a98f",
   "metadata": {},
   "outputs": [
    {
     "name": "stdout",
     "output_type": "stream",
     "text": [
      "最优参数C: 233.5721\n",
      "最优参数gamma: 0.0144\n",
      "预测结果误差: 0.0083\n"
     ]
    }
   ],
   "source": [
    "#调用差分进化灰狼优化函数\n",
    "# 设置种群规模和最大迭代次数\n",
    "pop_size = 50\n",
    "max_iter = 100\n",
    "mse, C_star, gamma_star = DEWO_SVM(X_train, X_test, y_train, y_test, pop_size, max_iter)\n",
    "print('最优参数C: %.4f' % C_star)\n",
    "print('最优参数gamma: %.4f' % gamma_star)\n",
    "print('预测结果误差: %.4f' % mse)"
   ]
  },
  {
   "cell_type": "code",
   "execution_count": null,
   "id": "a98824e7",
   "metadata": {},
   "outputs": [],
   "source": []
  }
 ],
 "metadata": {
  "kernelspec": {
   "display_name": "Python 3 (ipykernel)",
   "language": "python",
   "name": "python3"
  },
  "language_info": {
   "codemirror_mode": {
    "name": "ipython",
    "version": 3
   },
   "file_extension": ".py",
   "mimetype": "text/x-python",
   "name": "python",
   "nbconvert_exporter": "python",
   "pygments_lexer": "ipython3",
   "version": "3.9.7"
  }
 },
 "nbformat": 4,
 "nbformat_minor": 5
}
